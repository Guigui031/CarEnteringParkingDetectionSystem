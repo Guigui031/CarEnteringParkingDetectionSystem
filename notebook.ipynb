{
  "cells": [
    {
      "cell_type": "markdown",
      "metadata": {
        "id": "view-in-github",
        "colab_type": "text"
      },
      "source": [
        "<a href=\"https://colab.research.google.com/github/Guigui031/CarEnteringParkingDetectionSystem/blob/main/notebook.ipynb\" target=\"_parent\"><img src=\"https://colab.research.google.com/assets/colab-badge.svg\" alt=\"Open In Colab\"/></a>"
      ]
    },
    {
      "cell_type": "markdown",
      "source": [
        "# Question 1)"
      ],
      "metadata": {
        "id": "7Sppldh4ejBH"
      },
      "id": "7Sppldh4ejBH"
    },
    {
      "cell_type": "markdown",
      "source": [
        "Soit $k$, le k-ième poids des $m$ vecteurs de poids (un par classe), qui ont tous $p$ composantes. Nous avons la dérivées suivante:\n",
        "\\begin{align*}\n",
        "\\frac{\\partial}{\\partial w_k^{j^{'}}} \\frac{C}{2}\\sum_{j^{'} = 1}^{m} \\| w^{j^{'}}\\|_2^{2}\n",
        "&= \\frac{\\partial}{\\partial w_k^{j^{'}}} \\frac{C}{2}\\sum_{j^{'} = 1}^{m} \\sqrt{\\sum_{i = 1}^{p} (w_i^{j^{'}})^2} ^{2}\\\\\n",
        "&= \\frac{C}{2}\\sum_{j^{'} = 1}^{m} \\sum_{i = 1}^{p} \\frac{\\partial}{\\partial w_k^{j^{'}}}(w_i^{j^{'}})^2\\\\\n",
        "&= \\frac{C}{2}\\sum_{j^{'} = 1}^{m} (0 + \\ldots + 0 + 2 w_k^{j^{'}} + 0 + \\ldots + 0)\\\\\n",
        "&= C\\sum_{j^{'} = 1}^{m} w_k^{j^{'}}\n",
        "\\end{align*}"
      ],
      "metadata": {
        "id": "tyluTsHb2-cE"
      },
      "id": "tyluTsHb2-cE"
    },
    {
      "cell_type": "markdown",
      "source": [
        "# Question 2)"
      ],
      "metadata": {
        "id": "FU5D8W7dBmVz"
      },
      "id": "FU5D8W7dBmVz"
    },
    {
      "cell_type": "markdown",
      "source": [
        "\\begin{align*}\n",
        "\\frac{\\partial}{\\partial w_k^{j^{'}}} \\frac{1}{n} \\sum_{(x_i, y_i) \\in S} \\sum_{j^{'} = 1}^{m}\\left(\\text{max}\\{0, 2 - (\\langle \\mathbf{w}^{j'}, \\mathbf{x}_i \\rangle)1\\{y_i=j'\\}  \\} \\right)^2\n",
        "&= \\frac{1}{n} \\sum_{(x_i, y_i) \\in S} \\sum_{j^{'} = 1}^{m} \\frac{\\partial}{\\partial w_k^{j^{'}}} \\left(\\text{max}\\{0, 2 - (\\langle \\mathbf{w}^{j'}, \\mathbf{x}_i \\rangle)1\\{y_i=j'\\}  \\} \\right)^2\\\\\n",
        "&= \\frac{1}{n} \\sum_{(x_i, y_i) \\in S} \\sum_{j^{'} = 1}^{m} 2 \\cdot \\text{max}\\{0, 2 - (\\langle \\mathbf{w}^{j'}, \\mathbf{x}_i \\rangle)1\\{y_i=j'\\}  \\}  \\left(\\frac{\\partial}{\\partial w_k^{j^{'}}} \\text{max}\\{0, 2 - (\\langle \\mathbf{w}^{j'}, \\mathbf{x}_i \\rangle)1\\{y_i=j'\\}  \\} \\right)\n",
        "\\end{align*}\n",
        "\n",
        "Par la supposition par rapport à la dérivée de max:\n",
        "\\begin{align*}\n",
        "\\frac{\\partial}{\\partial w_k^{j^{'}}} \\text{max}\\{0, 2 - (\\langle \\mathbf{w}^{j'}, \\mathbf{x}_i \\rangle)1\\{y_i=j'\\}  \\}\n",
        "&=\n",
        "\\begin{cases}\n",
        "\\frac{\\partial}{\\partial w_k^{j^{'}}} (2 - (\\langle \\mathbf{w}^{j'}, \\mathbf{x}_i \\rangle)1\\{y_i=j'\\}) & \\text{if } 2 - (\\langle \\mathbf{w}^{j'}, \\mathbf{x}_i \\rangle)1\\{y_i=j'\\} > 0 \\\\\n",
        "0 & \\text{else}\n",
        "\\end{cases}\\\\\n",
        "&=\\begin{cases}\n",
        "-x_i(2 - (\\mathbf{w}^{j'})^{T} \\mathbf{x}_i 1\\{y_i=j'\\}) & \\text{if } 2 - ((\\langle \\mathbf{w}^{j'}, \\mathbf{x}_i \\rangle))1\\{y_i=j'\\} > 0 \\\\\n",
        "0 & \\text{else}\n",
        "\\end{cases}\n",
        "\\end{align*}\n",
        "\n",
        "Nous pouvons voir cette expression comme une indicatrice, et l'ajouter dans l'expression globale:\n",
        "$$= \\frac{-2}{n} \\sum_{(x_i, y_i) \\in S} \\sum_{j^{'} = 1}^{m} x_i \\left(2 - (\\langle \\mathbf{w}^{j'}, \\mathbf{x}_i \\rangle)1_{\\{y_i=j'\\}}  \\} \\right)1_{\\{2 - (\\langle \\mathbf{w}^{j'}, \\mathbf{x}_i \\rangle)1_{\\{y_i=j'\\} \\}} > 0\\}}$$\n",
        "\n",
        "\n",
        "\n",
        "\n"
      ],
      "metadata": {
        "id": "WoWX3R01Bqj3"
      },
      "id": "WoWX3R01Bqj3"
    },
    {
      "cell_type": "code",
      "source": [],
      "metadata": {
        "id": "CxPsTXbkBoA0"
      },
      "id": "CxPsTXbkBoA0",
      "execution_count": null,
      "outputs": []
    }
  ],
  "metadata": {
    "kernelspec": {
      "display_name": "ift6758-conda-env",
      "language": "python",
      "name": "ift6758-conda-env"
    },
    "language_info": {
      "codemirror_mode": {
        "name": "ipython",
        "version": 3
      },
      "file_extension": ".py",
      "mimetype": "text/x-python",
      "name": "python",
      "nbconvert_exporter": "python",
      "pygments_lexer": "ipython3",
      "version": "3.12.3"
    },
    "colab": {
      "provenance": [],
      "include_colab_link": true
    }
  },
  "nbformat": 4,
  "nbformat_minor": 5
}